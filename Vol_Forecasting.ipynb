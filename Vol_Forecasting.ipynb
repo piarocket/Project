{
 "cells": [
  {
   "cell_type": "code",
   "execution_count": 7,
   "id": "f9991302",
   "metadata": {},
   "outputs": [],
   "source": [
    "import pandas as pd\n",
    "import numpy as np\n",
    "import statistics\n",
    "from datetime import datetime\n",
    "import datetime\n",
    "import random\n",
    "import itertools\n",
    "from scipy.stats import norm\n",
    "#import seaborn as sns\n",
    "import math\n",
    "import random\n",
    "import sklearn\n",
    "from scipy.sparse import csr_matrix\n",
    "from sklearn.model_selection import train_test_split\n",
    "from sklearn.metrics.pairwise import cosine_similarity\n",
    "from scipy.sparse.linalg import svds"
   ]
  },
  {
   "cell_type": "code",
   "execution_count": 8,
   "id": "7d5df6d7",
   "metadata": {},
   "outputs": [
    {
     "data": {
      "text/html": [
       "<div>\n",
       "<style scoped>\n",
       "    .dataframe tbody tr th:only-of-type {\n",
       "        vertical-align: middle;\n",
       "    }\n",
       "\n",
       "    .dataframe tbody tr th {\n",
       "        vertical-align: top;\n",
       "    }\n",
       "\n",
       "    .dataframe thead th {\n",
       "        text-align: right;\n",
       "    }\n",
       "</style>\n",
       "<table border=\"1\" class=\"dataframe\">\n",
       "  <thead>\n",
       "    <tr style=\"text-align: right;\">\n",
       "      <th></th>\n",
       "      <th>Sub Sector</th>\n",
       "      <th>Category</th>\n",
       "      <th>Shipment MSU Internal</th>\n",
       "      <th>Date</th>\n",
       "    </tr>\n",
       "  </thead>\n",
       "  <tbody>\n",
       "    <tr>\n",
       "      <th>0</th>\n",
       "      <td>BABY CARE</td>\n",
       "      <td>BABY WIPES</td>\n",
       "      <td>8.4851</td>\n",
       "      <td>2021-03</td>\n",
       "    </tr>\n",
       "    <tr>\n",
       "      <th>1</th>\n",
       "      <td>BABY CARE</td>\n",
       "      <td>DIAPER</td>\n",
       "      <td>16.2576</td>\n",
       "      <td>2021-03</td>\n",
       "    </tr>\n",
       "    <tr>\n",
       "      <th>2</th>\n",
       "      <td>DISH WASHING</td>\n",
       "      <td>ADW</td>\n",
       "      <td>8.4099</td>\n",
       "      <td>2021-03</td>\n",
       "    </tr>\n",
       "    <tr>\n",
       "      <th>3</th>\n",
       "      <td>DISH WASHING</td>\n",
       "      <td>HDW</td>\n",
       "      <td>8.3374</td>\n",
       "      <td>2021-03</td>\n",
       "    </tr>\n",
       "    <tr>\n",
       "      <th>4</th>\n",
       "      <td>FABRIC CARE</td>\n",
       "      <td>FABRIC ENHANCER</td>\n",
       "      <td>0.3699</td>\n",
       "      <td>2021-03</td>\n",
       "    </tr>\n",
       "  </tbody>\n",
       "</table>\n",
       "</div>"
      ],
      "text/plain": [
       "     Sub Sector         Category  Shipment MSU Internal     Date\n",
       "0     BABY CARE       BABY WIPES                 8.4851  2021-03\n",
       "1     BABY CARE           DIAPER                16.2576  2021-03\n",
       "2  DISH WASHING              ADW                 8.4099  2021-03\n",
       "3  DISH WASHING              HDW                 8.3374  2021-03\n",
       "4   FABRIC CARE  FABRIC ENHANCER                 0.3699  2021-03"
      ]
     },
     "execution_count": 8,
     "metadata": {},
     "output_type": "execute_result"
    }
   ],
   "source": [
    "data= pd.read_csv(r'C:\\Users\\idigoras.a\\OneDrive - Procter and Gamble\\05. Trainings&Acces\\FODS 3\\Project\\Shipments\\total shipments.csv')\n",
    "#data = data[data['Category'] == 'CHAMPUS']\n",
    "data.head()  \n"
   ]
  },
  {
   "cell_type": "code",
   "execution_count": null,
   "id": "7845677c",
   "metadata": {},
   "outputs": [],
   "source": []
  }
 ],
 "metadata": {
  "kernelspec": {
   "display_name": "Python 3 (ipykernel)",
   "language": "python",
   "name": "python3"
  },
  "language_info": {
   "codemirror_mode": {
    "name": "ipython",
    "version": 3
   },
   "file_extension": ".py",
   "mimetype": "text/x-python",
   "name": "python",
   "nbconvert_exporter": "python",
   "pygments_lexer": "ipython3",
   "version": "3.12.0"
  }
 },
 "nbformat": 4,
 "nbformat_minor": 5
}
